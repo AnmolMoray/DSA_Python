{
 "cells": [
  {
   "cell_type": "code",
   "execution_count": 5,
   "id": "d3239baa-2b88-43dc-9549-c3b5d0c1b6f4",
   "metadata": {},
   "outputs": [],
   "source": [
    "def count_word_frequency(words):\n",
    "    word_count = {}\n",
    "    for word in words.split(\" \"):\n",
    "        word_count[word] = word_count.get(word, 0) + 1\n",
    "    return word_count\n",
    " "
   ]
  },
  {
   "cell_type": "code",
   "execution_count": 7,
   "id": "5f79b648-2d76-448b-a5b7-c5053d612f38",
   "metadata": {},
   "outputs": [
    {
     "data": {
      "text/plain": [
       "{'the': 2, 'anmol': 1, 'is': 1, 'good': 1, 'boy': 1}"
      ]
     },
     "execution_count": 7,
     "metadata": {},
     "output_type": "execute_result"
    }
   ],
   "source": [
    "count_word_frequency(\"the anmol is good boy the\")"
   ]
  },
  {
   "cell_type": "code",
   "execution_count": 10,
   "id": "8fb0dc49-591c-41d5-a4a2-ac532eb32905",
   "metadata": {},
   "outputs": [],
   "source": [
    "def merge_dicts(dict1, dict2):\n",
    "    result = dict1.copy()\n",
    "    for key, value in dict2.items():\n",
    "        result[key] = result.get(key, \"0\") + value\n",
    "    return result"
   ]
  },
  {
   "cell_type": "code",
   "execution_count": 11,
   "id": "43382b90-e6ba-43c6-a13f-1574580898b1",
   "metadata": {},
   "outputs": [
    {
     "data": {
      "text/plain": [
       "{1: 'oneone', 2: '0two'}"
      ]
     },
     "execution_count": 11,
     "metadata": {},
     "output_type": "execute_result"
    }
   ],
   "source": [
    "merge_dicts({1:\"one\"},{1:\"one\",2:\"two\"})"
   ]
  },
  {
   "cell_type": "code",
   "execution_count": 12,
   "id": "6f90650a-6b70-44be-9b30-f1da4b418ac1",
   "metadata": {},
   "outputs": [],
   "source": [
    "def max_value_key(my_dict):\n",
    "    return max(my_dict, key=my_dict.get)"
   ]
  },
  {
   "cell_type": "code",
   "execution_count": 13,
   "id": "d4048b5b-c086-4edd-9795-61c249f4eda6",
   "metadata": {},
   "outputs": [
    {
     "data": {
      "text/plain": [
       "2"
      ]
     },
     "execution_count": 13,
     "metadata": {},
     "output_type": "execute_result"
    }
   ],
   "source": [
    "max_value_key({1:\"one\",2:\"two\"})"
   ]
  },
  {
   "cell_type": "code",
   "execution_count": 16,
   "id": "8fb77fea-c4e2-4f0f-907f-23df5789a5e1",
   "metadata": {},
   "outputs": [],
   "source": [
    "#reversing key and value pair\n",
    "def rev_dict(dict):\n",
    "    rev_dict={}\n",
    "    for key in dict:\n",
    "        rev_dict[dict[key]]=key\n",
    "    return rev_dict"
   ]
  },
  {
   "cell_type": "code",
   "execution_count": 21,
   "id": "f41ad601-490e-4c50-98a8-5c1f2580e2b0",
   "metadata": {},
   "outputs": [
    {
     "data": {
      "text/plain": [
       "{'one': 9, 'two': 2, 'hihi': 8}"
      ]
     },
     "execution_count": 21,
     "metadata": {},
     "output_type": "execute_result"
    }
   ],
   "source": [
    "rev_dict({1:\"one\",2:\"two\",1:\"one\",2:\"two\",9:\"one\",8:\"hihi\"})"
   ]
  },
  {
   "cell_type": "code",
   "execution_count": 22,
   "id": "e5edca90-36f4-4c28-96a3-f6fd8b678182",
   "metadata": {},
   "outputs": [
    {
     "name": "stdout",
     "output_type": "stream",
     "text": [
      "the 2\n",
      "anmol 1\n",
      "is 1\n",
      "good 1\n",
      "boy 1\n"
     ]
    }
   ],
   "source": [
    "dict={'the': 2, 'anmol': 1, 'is': 1, 'good': 1, 'boy': 1}\n",
    "for k,v in dict.items():\n",
    "    print(k,v)"
   ]
  },
  {
   "cell_type": "code",
   "execution_count": 27,
   "id": "d39f8547-cb72-4e5a-a33d-3f6d15e02be0",
   "metadata": {},
   "outputs": [],
   "source": [
    "#checking same frequency of the list\n",
    "def check_freq(list1,list2):\n",
    "    counter={}\n",
    "    def count(list_element):\n",
    "        for i in list_element:\n",
    "            counter[i]=1+counter.get(i,0)\n",
    "        return counter\n",
    "    return count(list1)==count(list2)"
   ]
  },
  {
   "cell_type": "code",
   "execution_count": 28,
   "id": "4513fc7b-179e-406b-86d3-0eb24577e88e",
   "metadata": {},
   "outputs": [
    {
     "data": {
      "text/plain": [
       "True"
      ]
     },
     "execution_count": 28,
     "metadata": {},
     "output_type": "execute_result"
    }
   ],
   "source": [
    "check_freq([1,2,3,4],[1,2,3,4])"
   ]
  },
  {
   "cell_type": "code",
   "execution_count": null,
   "id": "2fd2542c-d89e-4021-afa8-879c8dec1d93",
   "metadata": {},
   "outputs": [],
   "source": []
  }
 ],
 "metadata": {
  "kernelspec": {
   "display_name": "Python 3 (ipykernel)",
   "language": "python",
   "name": "python3"
  },
  "language_info": {
   "codemirror_mode": {
    "name": "ipython",
    "version": 3
   },
   "file_extension": ".py",
   "mimetype": "text/x-python",
   "name": "python",
   "nbconvert_exporter": "python",
   "pygments_lexer": "ipython3",
   "version": "3.12.1"
  }
 },
 "nbformat": 4,
 "nbformat_minor": 5
}
