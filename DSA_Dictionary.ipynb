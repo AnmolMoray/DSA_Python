{
 "cells": [
  {
   "cell_type": "code",
   "execution_count": 2,
   "id": "9e8b28b8-92bd-4fc8-afe3-b119ada5ceb6",
   "metadata": {},
   "outputs": [
    {
     "data": {
      "text/plain": [
       "[6, 5, 4, 3, 2, 1]"
      ]
     },
     "execution_count": 2,
     "metadata": {},
     "output_type": "execute_result"
    }
   ],
   "source": [
    "def reverse_array(array):\n",
    "    for i in range(len(array)//2):\n",
    "        rev_index=len(array)-i-1\n",
    "        temp=array[i]\n",
    "        array[i]=array[rev_index]\n",
    "        array[rev_index]=temp\n",
    "    return array\n",
    "reverse_array([1,2,3,4,5,6])\n",
    "    "
   ]
  },
  {
   "cell_type": "code",
   "execution_count": 23,
   "id": "6fbb22b0-dc13-47a1-b1e1-4f10af125760",
   "metadata": {},
   "outputs": [],
   "source": [
    "dictionary={1:'key1',2:'key2',3:'key3',4:'key4'}"
   ]
  },
  {
   "cell_type": "code",
   "execution_count": 24,
   "id": "e0b93c38-fe48-4089-b02a-cd44f0982804",
   "metadata": {},
   "outputs": [
    {
     "data": {
      "text/plain": [
       "{1: 'key1', 2: 'key2', 3: 'key3', 4: 'key4'}"
      ]
     },
     "execution_count": 24,
     "metadata": {},
     "output_type": "execute_result"
    }
   ],
   "source": [
    "dictionary"
   ]
  },
  {
   "cell_type": "code",
   "execution_count": null,
   "id": "9b19f3d7-44df-4cd1-8a42-57c0f2059326",
   "metadata": {},
   "outputs": [],
   "source": []
  },
  {
   "cell_type": "code",
   "execution_count": 13,
   "id": "9fa7c118-17c4-4b7e-937b-fbf4e45deaa7",
   "metadata": {},
   "outputs": [
    {
     "name": "stdout",
     "output_type": "stream",
     "text": [
      "1 key1\n",
      "2 key2\n",
      "3 key3\n",
      "4 key4\n"
     ]
    }
   ],
   "source": [
    "for i in dictionary:\n",
    "    print(i,dictionary[i])"
   ]
  },
  {
   "cell_type": "code",
   "execution_count": 17,
   "id": "ac8316e9-9a01-44cc-9a69-e8c97c21fca9",
   "metadata": {},
   "outputs": [
    {
     "name": "stdout",
     "output_type": "stream",
     "text": [
      "3 key3\n"
     ]
    }
   ],
   "source": [
    "for i in dictionary:\n",
    "    if dictionary[i]=='key3':\n",
    "        print(i,dictionary[i])"
   ]
  },
  {
   "cell_type": "code",
   "execution_count": 18,
   "id": "ca69b918-e350-4527-8cd3-9a30d7c19788",
   "metadata": {},
   "outputs": [],
   "source": [
    "del dictionary[3]"
   ]
  },
  {
   "cell_type": "code",
   "execution_count": 19,
   "id": "13a026f3-277f-4f2d-b075-d12a698b9f40",
   "metadata": {},
   "outputs": [
    {
     "data": {
      "text/plain": [
       "{1: 'key1', 2: 'key2', 4: 'key4'}"
      ]
     },
     "execution_count": 19,
     "metadata": {},
     "output_type": "execute_result"
    }
   ],
   "source": [
    "dictionary"
   ]
  },
  {
   "cell_type": "code",
   "execution_count": 25,
   "id": "820f536a-6110-4db0-b5c5-6656b242fbfd",
   "metadata": {},
   "outputs": [],
   "source": [
    "dict1=dictionary.copy()"
   ]
  },
  {
   "cell_type": "code",
   "execution_count": 29,
   "id": "9431b185-e13e-4a9a-a8be-d5749ac41656",
   "metadata": {},
   "outputs": [
    {
     "ename": "TypeError",
     "evalue": "unhashable type: 'dict'",
     "output_type": "error",
     "traceback": [
      "\u001b[1;31m---------------------------------------------------------------------------\u001b[0m",
      "\u001b[1;31mTypeError\u001b[0m                                 Traceback (most recent call last)",
      "Cell \u001b[1;32mIn[29], line 1\u001b[0m\n\u001b[1;32m----> 1\u001b[0m {dict1,dictionary}\n",
      "\u001b[1;31mTypeError\u001b[0m: unhashable type: 'dict'"
     ]
    }
   ],
   "source": [
    "{dict1,dictionary}"
   ]
  },
  {
   "cell_type": "code",
   "execution_count": null,
   "id": "c4d63cfb-b548-4ee9-9f20-002d14206600",
   "metadata": {},
   "outputs": [],
   "source": []
  }
 ],
 "metadata": {
  "kernelspec": {
   "display_name": "Python 3 (ipykernel)",
   "language": "python",
   "name": "python3"
  },
  "language_info": {
   "codemirror_mode": {
    "name": "ipython",
    "version": 3
   },
   "file_extension": ".py",
   "mimetype": "text/x-python",
   "name": "python",
   "nbconvert_exporter": "python",
   "pygments_lexer": "ipython3",
   "version": "3.12.1"
  }
 },
 "nbformat": 4,
 "nbformat_minor": 5
}
