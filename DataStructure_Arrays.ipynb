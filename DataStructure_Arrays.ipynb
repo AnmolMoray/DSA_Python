{
 "cells": [
  {
   "cell_type": "code",
   "execution_count": 21,
   "id": "184a6275-f66c-4f41-9bd3-18de692bfaa4",
   "metadata": {},
   "outputs": [],
   "source": [
    "import array"
   ]
  },
  {
   "cell_type": "code",
   "execution_count": 22,
   "id": "d887ab97-2c62-49d9-8613-654fe950bc8d",
   "metadata": {},
   "outputs": [
    {
     "name": "stdout",
     "output_type": "stream",
     "text": [
      "array('i', [1, 2, 3, 4, 5])\n"
     ]
    }
   ],
   "source": [
    "arr=array.array('i',[1,2,3,4,5])\n",
    "print(arr)"
   ]
  },
  {
   "cell_type": "code",
   "execution_count": 2,
   "id": "997f1ec6-1e34-4e95-9cfe-254e6eb57007",
   "metadata": {},
   "outputs": [],
   "source": [
    "import numpy as np"
   ]
  },
  {
   "cell_type": "code",
   "execution_count": 9,
   "id": "90810246-d6a5-4b10-92af-8e42dac257d1",
   "metadata": {},
   "outputs": [],
   "source": [
    "a=np.array([1,2,3,4,5,'a'])"
   ]
  },
  {
   "cell_type": "code",
   "execution_count": 10,
   "id": "1d705f0b-5184-4b47-a782-74f6f1ddd25f",
   "metadata": {},
   "outputs": [
    {
     "name": "stdout",
     "output_type": "stream",
     "text": [
      "['1' '2' '3' '4' '5' 'a']\n"
     ]
    }
   ],
   "source": [
    "print(a)"
   ]
  },
  {
   "cell_type": "code",
   "execution_count": 12,
   "id": "8e315886-af31-490f-8376-715f4da4a5e7",
   "metadata": {},
   "outputs": [],
   "source": [
    "arr.insert(0,6)"
   ]
  },
  {
   "cell_type": "code",
   "execution_count": 13,
   "id": "67b34867-ef7a-40eb-b31f-2aac3519186f",
   "metadata": {},
   "outputs": [
    {
     "data": {
      "text/plain": [
       "array('i', [6, 1, 2, 3, 4, 5])"
      ]
     },
     "execution_count": 13,
     "metadata": {},
     "output_type": "execute_result"
    }
   ],
   "source": [
    "arr"
   ]
  },
  {
   "cell_type": "code",
   "execution_count": 14,
   "id": "291df34a-61d1-4b9e-ac5c-5b04b829f203",
   "metadata": {},
   "outputs": [],
   "source": [
    "arr.insert(4,7)"
   ]
  },
  {
   "cell_type": "code",
   "execution_count": 15,
   "id": "e98b4362-9d3b-49a1-babe-ce95bfc36c71",
   "metadata": {},
   "outputs": [
    {
     "data": {
      "text/plain": [
       "array('i', [6, 1, 2, 3, 7, 4, 5])"
      ]
     },
     "execution_count": 15,
     "metadata": {},
     "output_type": "execute_result"
    }
   ],
   "source": [
    "arr"
   ]
  },
  {
   "cell_type": "code",
   "execution_count": 16,
   "id": "5cf6e61d-6964-4102-981f-3145b87b30f0",
   "metadata": {},
   "outputs": [
    {
     "name": "stdout",
     "output_type": "stream",
     "text": [
      "6\n",
      "1\n",
      "2\n",
      "3\n",
      "7\n",
      "4\n",
      "5\n"
     ]
    }
   ],
   "source": [
    "for i in arr:\n",
    "    print(i)"
   ]
  },
  {
   "cell_type": "code",
   "execution_count": 17,
   "id": "2bff169a-5429-4bf2-a563-c4cb264d7c49",
   "metadata": {},
   "outputs": [
    {
     "name": "stdout",
     "output_type": "stream",
     "text": [
      "6\n",
      "1\n",
      "2\n",
      "3\n",
      "7\n",
      "4\n",
      "5\n"
     ]
    }
   ],
   "source": [
    "for i in range(0,len(arr)):\n",
    "    print(arr[i])"
   ]
  },
  {
   "cell_type": "code",
   "execution_count": 36,
   "id": "4fb46a2d-8f3c-47a5-8351-2228ad297a68",
   "metadata": {},
   "outputs": [
    {
     "data": {
      "text/plain": [
       "array([1, 3, 4, 5])"
      ]
     },
     "execution_count": 36,
     "metadata": {},
     "output_type": "execute_result"
    }
   ],
   "source": [
    "arr1=np.array([1,2,3,4,5])\n",
    "arr2=np.delete(arr1,1)\n",
    "arr1\n",
    "arr2"
   ]
  },
  {
   "cell_type": "code",
   "execution_count": 35,
   "id": "f23114d8-5562-4012-ba46-bb48651be0b3",
   "metadata": {},
   "outputs": [
    {
     "name": "stdout",
     "output_type": "stream",
     "text": [
      "[1 2 3 4 5]\n"
     ]
    }
   ],
   "source": [
    "print(arr1)"
   ]
  },
  {
   "cell_type": "code",
   "execution_count": 15,
   "id": "a52ad852-9ee4-4c96-8f2a-c1f7a08a58fc",
   "metadata": {},
   "outputs": [
    {
     "name": "stdout",
     "output_type": "stream",
     "text": [
      "5\n"
     ]
    }
   ],
   "source": [
    "array=np.array([1,2,3,4,5])\n",
    "num=5\n",
    "for i in array:\n",
    "    if i==num:\n",
    "        print(i)"
   ]
  },
  {
   "cell_type": "code",
   "execution_count": 23,
   "id": "ec8f0e91-183b-4f8b-89a9-56a9e24ef501",
   "metadata": {},
   "outputs": [],
   "source": [
    "arr.remove(3)"
   ]
  },
  {
   "cell_type": "code",
   "execution_count": 24,
   "id": "6c58ca0f-f1e4-4dbb-ab43-fee5d516f9d3",
   "metadata": {},
   "outputs": [
    {
     "data": {
      "text/plain": [
       "array('i', [1, 2, 4, 5])"
      ]
     },
     "execution_count": 24,
     "metadata": {},
     "output_type": "execute_result"
    }
   ],
   "source": [
    "arr"
   ]
  },
  {
   "cell_type": "code",
   "execution_count": 37,
   "id": "701a44b8-2550-42f8-b217-b626ebbce63e",
   "metadata": {},
   "outputs": [],
   "source": [
    "import numpy as np"
   ]
  },
  {
   "cell_type": "code",
   "execution_count": 38,
   "id": "209a99c9-a7d4-495f-9160-3b75cf80b855",
   "metadata": {},
   "outputs": [],
   "source": [
    "arr=np.array([1,2,3,4,5,6,7,8,9,0])"
   ]
  },
  {
   "cell_type": "code",
   "execution_count": 39,
   "id": "30536ddf-9214-4db4-bc73-b5d6a636ac47",
   "metadata": {},
   "outputs": [
    {
     "name": "stdout",
     "output_type": "stream",
     "text": [
      "1\n",
      "2\n",
      "3\n",
      "4\n",
      "5\n",
      "6\n",
      "7\n",
      "8\n",
      "9\n",
      "0\n"
     ]
    }
   ],
   "source": [
    "for i in arr:\n",
    "    print(i)"
   ]
  },
  {
   "cell_type": "code",
   "execution_count": 42,
   "id": "52d66041-079d-4bc6-b15b-ec1ebc20b6b7",
   "metadata": {},
   "outputs": [
    {
     "ename": "AxisError",
     "evalue": "axis 4 is out of bounds for array of dimension 1",
     "output_type": "error",
     "traceback": [
      "\u001b[1;31m---------------------------------------------------------------------------\u001b[0m",
      "\u001b[1;31mAxisError\u001b[0m                                 Traceback (most recent call last)",
      "Cell \u001b[1;32mIn[42], line 1\u001b[0m\n\u001b[1;32m----> 1\u001b[0m \u001b[43mnp\u001b[49m\u001b[38;5;241;43m.\u001b[39;49m\u001b[43mappend\u001b[49m\u001b[43m(\u001b[49m\u001b[43marr\u001b[49m\u001b[43m,\u001b[49m\u001b[38;5;241;43m10\u001b[39;49m\u001b[43m,\u001b[49m\u001b[38;5;241;43m4\u001b[39;49m\u001b[43m)\u001b[49m\n",
      "File \u001b[1;32m~\\anaconda3\\envs\\myenv\\Lib\\site-packages\\numpy\\lib\\function_base.py:5617\u001b[0m, in \u001b[0;36mappend\u001b[1;34m(arr, values, axis)\u001b[0m\n\u001b[0;32m   5615\u001b[0m     values \u001b[38;5;241m=\u001b[39m ravel(values)\n\u001b[0;32m   5616\u001b[0m     axis \u001b[38;5;241m=\u001b[39m arr\u001b[38;5;241m.\u001b[39mndim\u001b[38;5;241m-\u001b[39m\u001b[38;5;241m1\u001b[39m\n\u001b[1;32m-> 5617\u001b[0m \u001b[38;5;28;01mreturn\u001b[39;00m \u001b[43mconcatenate\u001b[49m\u001b[43m(\u001b[49m\u001b[43m(\u001b[49m\u001b[43marr\u001b[49m\u001b[43m,\u001b[49m\u001b[43m \u001b[49m\u001b[43mvalues\u001b[49m\u001b[43m)\u001b[49m\u001b[43m,\u001b[49m\u001b[43m \u001b[49m\u001b[43maxis\u001b[49m\u001b[38;5;241;43m=\u001b[39;49m\u001b[43maxis\u001b[49m\u001b[43m)\u001b[49m\n",
      "\u001b[1;31mAxisError\u001b[0m: axis 4 is out of bounds for array of dimension 1"
     ]
    }
   ],
   "source": [
    "np.append(arr,10,4)"
   ]
  },
  {
   "cell_type": "code",
   "execution_count": 45,
   "id": "a94ee409-0324-4643-a2f1-e703da37ad9c",
   "metadata": {},
   "outputs": [],
   "source": [
    "arr=np.insert(arr,1,4)"
   ]
  },
  {
   "cell_type": "code",
   "execution_count": 54,
   "id": "723418b6-ba35-4d7d-9efd-faa751394635",
   "metadata": {},
   "outputs": [],
   "source": [
    "arr1=np.array([2,3,4,5])\n",
    "arr1=np.append(arr,arr1)"
   ]
  },
  {
   "cell_type": "code",
   "execution_count": 51,
   "id": "035edf17-a8b9-4bef-9581-7d71f2d20e96",
   "metadata": {},
   "outputs": [],
   "source": [
    "a=[1,2,3,9]"
   ]
  },
  {
   "cell_type": "code",
   "execution_count": 52,
   "id": "8ca78f11-0d2a-42e2-b5ba-763b6f0b91e5",
   "metadata": {},
   "outputs": [
    {
     "ename": "AttributeError",
     "evalue": "'numpy.ndarray' object has no attribute 'fromlist'",
     "output_type": "error",
     "traceback": [
      "\u001b[1;31m---------------------------------------------------------------------------\u001b[0m",
      "\u001b[1;31mAttributeError\u001b[0m                            Traceback (most recent call last)",
      "Cell \u001b[1;32mIn[52], line 1\u001b[0m\n\u001b[1;32m----> 1\u001b[0m \u001b[43marr\u001b[49m\u001b[38;5;241;43m.\u001b[39;49m\u001b[43mfromlist\u001b[49m(a)\n",
      "\u001b[1;31mAttributeError\u001b[0m: 'numpy.ndarray' object has no attribute 'fromlist'"
     ]
    }
   ],
   "source": [
    "arr.fromlist(a)"
   ]
  },
  {
   "cell_type": "code",
   "execution_count": 53,
   "id": "ed5f2c5e-d313-438c-aec4-da697943f554",
   "metadata": {},
   "outputs": [
    {
     "name": "stdout",
     "output_type": "stream",
     "text": [
      "array('i', [1, 2, 3, 4, 5, 6, 7, 8, 9, 10])\n"
     ]
    }
   ],
   "source": [
    "import array as arr\n",
    "\n",
    "# creating an integer data type array\n",
    "x = arr.array('i', [1,2,3,4,5,6,7])\n",
    "\n",
    "\n",
    "# creatomg a list\n",
    "y = [8, 9, 10]\n",
    "\n",
    "# using the fromlist() function\n",
    "x.fromlist(y)\n",
    "\n",
    "# Printing the new array\n",
    "print(x)"
   ]
  },
  {
   "cell_type": "code",
   "execution_count": 57,
   "id": "04838c9a-f84b-4249-b4ee-51a23ff3f8ac",
   "metadata": {},
   "outputs": [
    {
     "data": {
      "text/plain": [
       "array([<module 'array' (built-in)>, 2, 3, 4], dtype=object)"
      ]
     },
     "execution_count": 57,
     "metadata": {},
     "output_type": "execute_result"
    }
   ],
   "source": [
    "np.delete(arr1,4)"
   ]
  },
  {
   "cell_type": "code",
   "execution_count": 59,
   "id": "c2085015-507b-4d40-a05b-eccc4e82ebff",
   "metadata": {},
   "outputs": [
    {
     "name": "stdout",
     "output_type": "stream",
     "text": [
      "<module 'array' (built-in)>\n",
      "2\n",
      "3\n",
      "4\n",
      "5\n"
     ]
    }
   ],
   "source": [
    "for i in arr1:\n",
    "    print(i)"
   ]
  },
  {
   "cell_type": "code",
   "execution_count": 61,
   "id": "39959164-6bae-4816-a0e2-b355377230cf",
   "metadata": {},
   "outputs": [
    {
     "ename": "AttributeError",
     "evalue": "module 'numpy' has no attribute 'pop'",
     "output_type": "error",
     "traceback": [
      "\u001b[1;31m---------------------------------------------------------------------------\u001b[0m",
      "\u001b[1;31mAttributeError\u001b[0m                            Traceback (most recent call last)",
      "Cell \u001b[1;32mIn[61], line 2\u001b[0m\n\u001b[0;32m      1\u001b[0m array\u001b[38;5;241m=\u001b[39mnp\u001b[38;5;241m.\u001b[39marray([\u001b[38;5;241m1\u001b[39m,\u001b[38;5;241m2\u001b[39m,\u001b[38;5;241m3\u001b[39m,\u001b[38;5;241m4\u001b[39m,\u001b[38;5;241m5\u001b[39m,\u001b[38;5;241m5\u001b[39m,\u001b[38;5;241m6\u001b[39m])\n\u001b[1;32m----> 2\u001b[0m \u001b[43mnp\u001b[49m\u001b[38;5;241;43m.\u001b[39;49m\u001b[43mpop\u001b[49m(array)\n",
      "File \u001b[1;32m~\\anaconda3\\envs\\myenv\\Lib\\site-packages\\numpy\\__init__.py:347\u001b[0m, in \u001b[0;36m__getattr__\u001b[1;34m(attr)\u001b[0m\n\u001b[0;32m    344\u001b[0m     \u001b[38;5;124m\"\u001b[39m\u001b[38;5;124mRemoved in NumPy 1.25.0\u001b[39m\u001b[38;5;124m\"\u001b[39m\n\u001b[0;32m    345\u001b[0m     \u001b[38;5;28;01mraise\u001b[39;00m \u001b[38;5;167;01mRuntimeError\u001b[39;00m(\u001b[38;5;124m\"\u001b[39m\u001b[38;5;124mTester was removed in NumPy 1.25.\u001b[39m\u001b[38;5;124m\"\u001b[39m)\n\u001b[1;32m--> 347\u001b[0m \u001b[38;5;28;01mraise\u001b[39;00m \u001b[38;5;167;01mAttributeError\u001b[39;00m(\u001b[38;5;124m\"\u001b[39m\u001b[38;5;124mmodule \u001b[39m\u001b[38;5;132;01m{!r}\u001b[39;00m\u001b[38;5;124m has no attribute \u001b[39m\u001b[38;5;124m\"\u001b[39m\n\u001b[0;32m    348\u001b[0m                      \u001b[38;5;124m\"\u001b[39m\u001b[38;5;132;01m{!r}\u001b[39;00m\u001b[38;5;124m\"\u001b[39m\u001b[38;5;241m.\u001b[39mformat(\u001b[38;5;18m__name__\u001b[39m, attr))\n",
      "\u001b[1;31mAttributeError\u001b[0m: module 'numpy' has no attribute 'pop'"
     ]
    }
   ],
   "source": [
    "array=np.array([1,2,3,4,5,5,6])\n",
    "np.pop(array)"
   ]
  },
  {
   "cell_type": "code",
   "execution_count": 62,
   "id": "74fdae50-cdc3-4258-a77a-be3c11bdc5ef",
   "metadata": {},
   "outputs": [
    {
     "data": {
      "text/plain": [
       "5"
      ]
     },
     "execution_count": 62,
     "metadata": {},
     "output_type": "execute_result"
    }
   ],
   "source": [
    "l=[1,2,3,4,5]\n",
    "l.pop()"
   ]
  },
  {
   "cell_type": "code",
   "execution_count": 63,
   "id": "e8d7279f-d748-400f-8fa8-8e81ebcf5d0c",
   "metadata": {},
   "outputs": [
    {
     "data": {
      "text/plain": [
       "[1, 2, 3, 4]"
      ]
     },
     "execution_count": 63,
     "metadata": {},
     "output_type": "execute_result"
    }
   ],
   "source": [
    "l"
   ]
  },
  {
   "cell_type": "code",
   "execution_count": 77,
   "id": "249c9627-d73d-42bb-8204-e95aeabcddc5",
   "metadata": {},
   "outputs": [
    {
     "name": "stdout",
     "output_type": "stream",
     "text": [
      "array('i', [1, 2, 3])\n",
      "(2441890502096, 3)\n"
     ]
    }
   ],
   "source": [
    "#initialize arrays\n",
    "import array\n",
    "array_one = array.array(\"i\", [1, 2, 3])\n",
    "\n",
    "\n",
    "#print buffer info\n",
    "print (array_one)\n",
    "print (array_one.buffer_info())\n",
    "array_one.reverse()"
   ]
  },
  {
   "cell_type": "code",
   "execution_count": 68,
   "id": "de2570f0-84bf-45b5-9535-ea095c4d64b7",
   "metadata": {},
   "outputs": [
    {
     "data": {
      "text/plain": [
       "array('i', [3, 2, 1])"
      ]
     },
     "execution_count": 68,
     "metadata": {},
     "output_type": "execute_result"
    }
   ],
   "source": [
    "array_one"
   ]
  },
  {
   "cell_type": "code",
   "execution_count": 69,
   "id": "1ab53ff4-994b-4d78-a76a-57312c4b3d85",
   "metadata": {},
   "outputs": [],
   "source": [
    "count=array_one.count(1)"
   ]
  },
  {
   "cell_type": "code",
   "execution_count": 70,
   "id": "b953dd3a-217d-4353-9557-410021cb9873",
   "metadata": {},
   "outputs": [
    {
     "data": {
      "text/plain": [
       "1"
      ]
     },
     "execution_count": 70,
     "metadata": {},
     "output_type": "execute_result"
    }
   ],
   "source": [
    "count"
   ]
  },
  {
   "cell_type": "code",
   "execution_count": 74,
   "id": "f26cbd47-1f01-4493-b060-f36c82019e7d",
   "metadata": {},
   "outputs": [],
   "source": [
    "arr1=str(array_one)"
   ]
  },
  {
   "cell_type": "raw",
   "id": "1a3e3220-3d13-4a3f-971a-ad7aebb29a07",
   "metadata": {},
   "source": [
    "arr1"
   ]
  },
  {
   "cell_type": "code",
   "execution_count": 75,
   "id": "b150963a-7f53-4079-96a0-788704b5cbae",
   "metadata": {},
   "outputs": [
    {
     "data": {
      "text/plain": [
       "\"array('i', [3, 2, 1])\""
      ]
     },
     "execution_count": 75,
     "metadata": {},
     "output_type": "execute_result"
    }
   ],
   "source": [
    "arr1"
   ]
  },
  {
   "cell_type": "code",
   "execution_count": 78,
   "id": "b07cd4c6-760d-4ab5-92a9-59db99199cbd",
   "metadata": {},
   "outputs": [],
   "source": [
    "ar=array_one.tolist()"
   ]
  },
  {
   "cell_type": "code",
   "execution_count": 79,
   "id": "4a89db4c-8b39-4b89-b9e7-e3789d7ed759",
   "metadata": {},
   "outputs": [
    {
     "data": {
      "text/plain": [
       "[3, 2, 1]"
      ]
     },
     "execution_count": 79,
     "metadata": {},
     "output_type": "execute_result"
    }
   ],
   "source": [
    "ar"
   ]
  },
  {
   "cell_type": "code",
   "execution_count": 81,
   "id": "223a9a36-a938-42e6-854e-7efc88226d4e",
   "metadata": {},
   "outputs": [],
   "source": [
    "char_array=array.array(\"u\",\"a\")"
   ]
  },
  {
   "cell_type": "code",
   "execution_count": 84,
   "id": "539c2570-a4a8-4c5c-ac1c-b54afd314f78",
   "metadata": {},
   "outputs": [
    {
     "ename": "AttributeError",
     "evalue": "'array.array' object has no attribute 'fromstring'",
     "output_type": "error",
     "traceback": [
      "\u001b[1;31m---------------------------------------------------------------------------\u001b[0m",
      "\u001b[1;31mAttributeError\u001b[0m                            Traceback (most recent call last)",
      "Cell \u001b[1;32mIn[84], line 2\u001b[0m\n\u001b[0;32m      1\u001b[0m new_array\u001b[38;5;241m=\u001b[39m\u001b[38;5;124m\"\u001b[39m\u001b[38;5;124mhello\u001b[39m\u001b[38;5;124m\"\u001b[39m\n\u001b[1;32m----> 2\u001b[0m \u001b[43mchar_array\u001b[49m\u001b[38;5;241;43m.\u001b[39;49m\u001b[43mfromstring\u001b[49m(new_array)\n",
      "\u001b[1;31mAttributeError\u001b[0m: 'array.array' object has no attribute 'fromstring'"
     ]
    }
   ],
   "source": [
    "new_array=\"hello\"\n",
    "char_array.fromstring(new_array)"
   ]
  },
  {
   "cell_type": "code",
   "execution_count": 85,
   "id": "4e969172-654e-4a97-9f57-f2c3078393a1",
   "metadata": {},
   "outputs": [
    {
     "ename": "AttributeError",
     "evalue": "'array.array' object has no attribute 'fromstring'",
     "output_type": "error",
     "traceback": [
      "\u001b[1;31m---------------------------------------------------------------------------\u001b[0m",
      "\u001b[1;31mAttributeError\u001b[0m                            Traceback (most recent call last)",
      "Cell \u001b[1;32mIn[85], line 10\u001b[0m\n\u001b[0;32m      7\u001b[0m string_to_append \u001b[38;5;241m=\u001b[39m \u001b[38;5;124m'\u001b[39m\u001b[38;5;124m World\u001b[39m\u001b[38;5;124m'\u001b[39m\n\u001b[0;32m      9\u001b[0m \u001b[38;5;66;03m# Append each character of the string to the array\u001b[39;00m\n\u001b[1;32m---> 10\u001b[0m \u001b[43mchar_array\u001b[49m\u001b[38;5;241;43m.\u001b[39;49m\u001b[43mfromstring\u001b[49m(string_to_append)\n\u001b[0;32m     12\u001b[0m \u001b[38;5;66;03m# Convert back to string to display\u001b[39;00m\n\u001b[0;32m     13\u001b[0m resulting_string \u001b[38;5;241m=\u001b[39m char_array\u001b[38;5;241m.\u001b[39mtounicode()\n",
      "\u001b[1;31mAttributeError\u001b[0m: 'array.array' object has no attribute 'fromstring'"
     ]
    }
   ],
   "source": [
    "from array import array\n",
    "\n",
    "# Original character array\n",
    "char_array = array('u', 'Hello')\n",
    "\n",
    "# String to append\n",
    "string_to_append = ' World'\n",
    "\n",
    "# Append each character of the string to the array\n",
    "char_array.fromstring(string_to_append)\n",
    "\n",
    "# Convert back to string to display\n",
    "resulting_string = char_array.tounicode()\n",
    "\n",
    "print(resulting_string)\n"
   ]
  },
  {
   "cell_type": "code",
   "execution_count": 86,
   "id": "476983fe-3d0f-4f2d-8b1c-2c3040e2205b",
   "metadata": {},
   "outputs": [],
   "source": [
    "char_list = ['H', 'e', 'l', 'l', 'o', ' ', 'W', 'o', 'r', 'l', 'd']"
   ]
  },
  {
   "cell_type": "code",
   "execution_count": 87,
   "id": "21e67c52-7b9c-48b8-a35f-f9b8c32c3665",
   "metadata": {},
   "outputs": [
    {
     "data": {
      "text/plain": [
       "['H', 'e', 'l', 'l', 'o', ' ', 'W', 'o', 'r', 'l', 'd']"
      ]
     },
     "execution_count": 87,
     "metadata": {},
     "output_type": "execute_result"
    }
   ],
   "source": [
    "char_list[:]"
   ]
  },
  {
   "cell_type": "code",
   "execution_count": 88,
   "id": "a0a54a92-7a91-4b0d-8595-ba9dbe67b954",
   "metadata": {},
   "outputs": [
    {
     "data": {
      "text/plain": [
       "['H', 'e', 'l']"
      ]
     },
     "execution_count": 88,
     "metadata": {},
     "output_type": "execute_result"
    }
   ],
   "source": [
    "char_list[0:3]"
   ]
  },
  {
   "cell_type": "code",
   "execution_count": 90,
   "id": "4b5f7f76-9cc7-4c81-8ad7-cd7377ec65e8",
   "metadata": {},
   "outputs": [
    {
     "data": {
      "text/plain": [
       "['d', 'l', 'r', 'o', 'W', ' ', 'o', 'l', 'l', 'e', 'H']"
      ]
     },
     "execution_count": 90,
     "metadata": {},
     "output_type": "execute_result"
    }
   ],
   "source": [
    "char_list[::-1]"
   ]
  },
  {
   "cell_type": "code",
   "execution_count": 91,
   "id": "3c2e4ca0-b8c3-4177-ac56-78b98a1b5698",
   "metadata": {},
   "outputs": [],
   "source": [
    "arr=np.array([[1,2,3],[4,5,6],[7,8,9]])"
   ]
  },
  {
   "cell_type": "code",
   "execution_count": 92,
   "id": "918949f1-ef25-4de4-854e-8120e338b835",
   "metadata": {},
   "outputs": [
    {
     "data": {
      "text/plain": [
       "array([[1, 2, 3],\n",
       "       [4, 5, 6],\n",
       "       [7, 8, 9]])"
      ]
     },
     "execution_count": 92,
     "metadata": {},
     "output_type": "execute_result"
    }
   ],
   "source": [
    "arr"
   ]
  },
  {
   "cell_type": "code",
   "execution_count": 94,
   "id": "5eba2402-a546-4d73-99c8-3e195a899eac",
   "metadata": {},
   "outputs": [
    {
     "data": {
      "text/plain": [
       "array([[90, 90, 90],\n",
       "       [90, 90, 90]])"
      ]
     },
     "execution_count": 94,
     "metadata": {},
     "output_type": "execute_result"
    }
   ],
   "source": [
    "arr1=np.full((2, 3), fill_value=90)\n",
    "arr1"
   ]
  },
  {
   "cell_type": "code",
   "execution_count": 98,
   "id": "5dfd4c15-beb6-4a0a-9b6e-52baedfb5603",
   "metadata": {},
   "outputs": [],
   "source": [
    "new_array=np.insert(arr,1,[11,22,33],axis=0)"
   ]
  },
  {
   "cell_type": "code",
   "execution_count": 99,
   "id": "e233c87d-edce-497d-8981-12f230cae03a",
   "metadata": {},
   "outputs": [
    {
     "data": {
      "text/plain": [
       "array([[ 1,  2,  3],\n",
       "       [11, 22, 33],\n",
       "       [ 4,  5,  6],\n",
       "       [ 7,  8,  9]])"
      ]
     },
     "execution_count": 99,
     "metadata": {},
     "output_type": "execute_result"
    }
   ],
   "source": [
    "new_array"
   ]
  },
  {
   "cell_type": "code",
   "execution_count": 100,
   "id": "21dad835-8832-4b39-a017-bc956b33dec3",
   "metadata": {},
   "outputs": [
    {
     "data": {
      "text/plain": [
       "4"
      ]
     },
     "execution_count": 100,
     "metadata": {},
     "output_type": "execute_result"
    }
   ],
   "source": [
    "len(new_array)"
   ]
  },
  {
   "cell_type": "code",
   "execution_count": 101,
   "id": "8417eb72-e22e-41a9-bfcf-98bfc06cc4e9",
   "metadata": {},
   "outputs": [
    {
     "data": {
      "text/plain": [
       "3"
      ]
     },
     "execution_count": 101,
     "metadata": {},
     "output_type": "execute_result"
    }
   ],
   "source": [
    "len(new_array[0])"
   ]
  },
  {
   "cell_type": "code",
   "execution_count": 103,
   "id": "94fc5ead-26f3-495d-a029-b65c91c9a5d4",
   "metadata": {},
   "outputs": [
    {
     "name": "stdout",
     "output_type": "stream",
     "text": [
      "[1 2 3]\n",
      "[11 22 33]\n",
      "[4 5 6]\n",
      "[7 8 9]\n"
     ]
    }
   ],
   "source": [
    "for i in new_array:\n",
    "    print(i)"
   ]
  },
  {
   "cell_type": "code",
   "execution_count": 105,
   "id": "f36a75fa-f68b-4c28-a9f2-cdde89ad3a5e",
   "metadata": {},
   "outputs": [
    {
     "name": "stdout",
     "output_type": "stream",
     "text": [
      "1\n",
      "2\n",
      "3\n",
      "11\n",
      "22\n",
      "33\n",
      "4\n",
      "5\n",
      "6\n",
      "7\n",
      "8\n",
      "9\n"
     ]
    }
   ],
   "source": [
    "for i in range(len(new_array)):\n",
    "    for j in range(len(new_array[0])):\n",
    "        print(new_array[i][j])"
   ]
  },
  {
   "cell_type": "code",
   "execution_count": null,
   "id": "93802277-65dc-4ebe-9936-081812d27ac4",
   "metadata": {},
   "outputs": [],
   "source": []
  }
 ],
 "metadata": {
  "kernelspec": {
   "display_name": "Python 3 (ipykernel)",
   "language": "python",
   "name": "python3"
  },
  "language_info": {
   "codemirror_mode": {
    "name": "ipython",
    "version": 3
   },
   "file_extension": ".py",
   "mimetype": "text/x-python",
   "name": "python",
   "nbconvert_exporter": "python",
   "pygments_lexer": "ipython3",
   "version": "3.12.1"
  }
 },
 "nbformat": 4,
 "nbformat_minor": 5
}
