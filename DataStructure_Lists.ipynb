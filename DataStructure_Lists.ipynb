{
 "cells": [
  {
   "cell_type": "code",
   "execution_count": 2,
   "id": "aaa9897b-d6f6-4ea3-9d58-f8572a8f0952",
   "metadata": {},
   "outputs": [],
   "source": [
    "list1=[1,2,3,4,7]"
   ]
  },
  {
   "cell_type": "code",
   "execution_count": 3,
   "id": "244d9d75-ddc9-4836-8717-4ff32193c1d7",
   "metadata": {},
   "outputs": [
    {
     "data": {
      "text/plain": [
       "1"
      ]
     },
     "execution_count": 3,
     "metadata": {},
     "output_type": "execute_result"
    }
   ],
   "source": [
    "list1[0]"
   ]
  },
  {
   "cell_type": "code",
   "execution_count": 4,
   "id": "a9bbafdc-0731-41f8-9eba-fcd323f671dd",
   "metadata": {},
   "outputs": [
    {
     "name": "stdout",
     "output_type": "stream",
     "text": [
      "1\n",
      "2\n",
      "3\n",
      "4\n",
      "7\n"
     ]
    }
   ],
   "source": [
    "for i in range(len(list1)):\n",
    "    print(list1[i])"
   ]
  },
  {
   "cell_type": "code",
   "execution_count": 8,
   "id": "531dd430-bbab-4c3c-9c5d-0af40fb3ce6b",
   "metadata": {},
   "outputs": [
    {
     "name": "stdout",
     "output_type": "stream",
     "text": [
      "False\n"
     ]
    }
   ],
   "source": [
    "print( 'tyehr' in list1)"
   ]
  },
  {
   "cell_type": "code",
   "execution_count": 15,
   "id": "87e4a469-0b45-4f5d-8fdf-0341e3472c9e",
   "metadata": {},
   "outputs": [],
   "source": [
    "list1.reverse()"
   ]
  },
  {
   "cell_type": "code",
   "execution_count": 18,
   "id": "465763f6-0cbc-41db-9821-54fd655d1b17",
   "metadata": {},
   "outputs": [
    {
     "data": {
      "text/plain": [
       "[7, 4, 3, 2, 1]"
      ]
     },
     "execution_count": 18,
     "metadata": {},
     "output_type": "execute_result"
    }
   ],
   "source": [
    "list1"
   ]
  },
  {
   "cell_type": "code",
   "execution_count": 19,
   "id": "cc7f180e-4bd7-4de5-b850-d382c3fd4fad",
   "metadata": {},
   "outputs": [],
   "source": [
    "empty=[]\n",
    "for i in empty:\n",
    "    print(\"dbjs\")"
   ]
  },
  {
   "cell_type": "code",
   "execution_count": 20,
   "id": "7dc6e2ac-101f-407c-864c-dcafffa15cd1",
   "metadata": {},
   "outputs": [],
   "source": [
    "list1.insert(0,1)"
   ]
  },
  {
   "cell_type": "code",
   "execution_count": 21,
   "id": "110df915-3c3e-4922-87c7-1bbf13548e50",
   "metadata": {},
   "outputs": [
    {
     "data": {
      "text/plain": [
       "[1, 7, 4, 3, 2, 1]"
      ]
     },
     "execution_count": 21,
     "metadata": {},
     "output_type": "execute_result"
    }
   ],
   "source": [
    "list1"
   ]
  },
  {
   "cell_type": "code",
   "execution_count": 22,
   "id": "104de71a-206c-4ccb-84bc-2b01c86037de",
   "metadata": {},
   "outputs": [
    {
     "data": {
      "text/plain": [
       "[1, 7, 4, 3, 2, 1, 99]"
      ]
     },
     "execution_count": 22,
     "metadata": {},
     "output_type": "execute_result"
    }
   ],
   "source": [
    "list1.append(99)\n",
    "list1"
   ]
  },
  {
   "cell_type": "code",
   "execution_count": 24,
   "id": "60d7cbb7-2098-49f3-aab2-686d025a52aa",
   "metadata": {},
   "outputs": [],
   "source": [
    "a=[1,2,3]\n",
    "list1.extend(a)"
   ]
  },
  {
   "cell_type": "code",
   "execution_count": 25,
   "id": "63225c26-dd3e-4666-b60a-b6bbf90e5fb6",
   "metadata": {},
   "outputs": [
    {
     "data": {
      "text/plain": [
       "[1, 4, 2, 99, 2]"
      ]
     },
     "execution_count": 25,
     "metadata": {},
     "output_type": "execute_result"
    }
   ],
   "source": [
    "list1[::2]"
   ]
  },
  {
   "cell_type": "code",
   "execution_count": 26,
   "id": "0762d4c7-dc77-4006-ac2a-e9868d33f180",
   "metadata": {},
   "outputs": [
    {
     "data": {
      "text/plain": [
       "3"
      ]
     },
     "execution_count": 26,
     "metadata": {},
     "output_type": "execute_result"
    }
   ],
   "source": [
    "list1.pop()"
   ]
  },
  {
   "cell_type": "code",
   "execution_count": 27,
   "id": "88deb362-3456-4792-97da-8ea825bb29be",
   "metadata": {},
   "outputs": [
    {
     "data": {
      "text/plain": [
       "4"
      ]
     },
     "execution_count": 27,
     "metadata": {},
     "output_type": "execute_result"
    }
   ],
   "source": [
    "list1.pop(2)"
   ]
  },
  {
   "cell_type": "code",
   "execution_count": 28,
   "id": "8bb13982-0d48-48d0-89fc-9377f711d6f6",
   "metadata": {},
   "outputs": [],
   "source": [
    "del list1[0]"
   ]
  },
  {
   "cell_type": "code",
   "execution_count": 29,
   "id": "21a47cf4-8de8-4161-9017-1339ba18f438",
   "metadata": {},
   "outputs": [
    {
     "data": {
      "text/plain": [
       "[7, 3, 2, 1, 99, 1, 2]"
      ]
     },
     "execution_count": 29,
     "metadata": {},
     "output_type": "execute_result"
    }
   ],
   "source": [
    "list1"
   ]
  },
  {
   "cell_type": "code",
   "execution_count": 30,
   "id": "44497292-a478-45a9-baab-a1de127b4346",
   "metadata": {},
   "outputs": [],
   "source": [
    "list1.remove(1)"
   ]
  },
  {
   "cell_type": "code",
   "execution_count": 31,
   "id": "75e84cd4-08c9-40b1-8785-d7be0bc0d7f5",
   "metadata": {},
   "outputs": [
    {
     "data": {
      "text/plain": [
       "[7, 3, 2, 99, 1, 2]"
      ]
     },
     "execution_count": 31,
     "metadata": {},
     "output_type": "execute_result"
    }
   ],
   "source": [
    "list1"
   ]
  },
  {
   "cell_type": "code",
   "execution_count": 32,
   "id": "14b52a76-3404-4452-8fea-481a8ea14d13",
   "metadata": {},
   "outputs": [
    {
     "data": {
      "text/plain": [
       "['HEllo', 'world']"
      ]
     },
     "execution_count": 32,
     "metadata": {},
     "output_type": "execute_result"
    }
   ],
   "source": [
    "a=\"HEllo-world\"\n",
    "a=a.split('-')\n",
    "a"
   ]
  },
  {
   "cell_type": "code",
   "execution_count": 36,
   "id": "c6983693-19b7-44fa-96a0-ca1bf3bcb5b1",
   "metadata": {},
   "outputs": [
    {
     "data": {
      "text/plain": [
       "[2, 4, 6]"
      ]
     },
     "execution_count": 36,
     "metadata": {},
     "output_type": "execute_result"
    }
   ],
   "source": [
    "x=[1,2,3,4,5,6]\n",
    "y=[a for a in x if a%2==0]\n",
    "y"
   ]
  },
  {
   "cell_type": "code",
   "execution_count": 37,
   "id": "ed97b9c0-1b54-49b1-815f-63e265dc41b6",
   "metadata": {},
   "outputs": [
    {
     "ename": "ValueError",
     "evalue": "attempt to assign sequence of size 6 to extended slice of size 5",
     "output_type": "error",
     "traceback": [
      "\u001b[1;31m---------------------------------------------------------------------------\u001b[0m",
      "\u001b[1;31mValueError\u001b[0m                                Traceback (most recent call last)",
      "Cell \u001b[1;32mIn[37], line 2\u001b[0m\n\u001b[0;32m      1\u001b[0m a\u001b[38;5;241m=\u001b[39m[\u001b[38;5;241m1\u001b[39m,\u001b[38;5;241m2\u001b[39m,\u001b[38;5;241m3\u001b[39m,\u001b[38;5;241m4\u001b[39m,\u001b[38;5;241m5\u001b[39m,\u001b[38;5;241m6\u001b[39m,\u001b[38;5;241m7\u001b[39m,\u001b[38;5;241m8\u001b[39m,\u001b[38;5;241m9\u001b[39m]\n\u001b[1;32m----> 2\u001b[0m \u001b[43ma\u001b[49m\u001b[43m[\u001b[49m\u001b[43m:\u001b[49m\u001b[43m:\u001b[49m\u001b[38;5;241;43m2\u001b[39;49m\u001b[43m]\u001b[49m\u001b[38;5;241m=\u001b[39m\u001b[38;5;241m10\u001b[39m,\u001b[38;5;241m20\u001b[39m,\u001b[38;5;241m30\u001b[39m,\u001b[38;5;241m40\u001b[39m,\u001b[38;5;241m50\u001b[39m,\u001b[38;5;241m60\u001b[39m\n\u001b[0;32m      3\u001b[0m \u001b[38;5;28mprint\u001b[39m(a)\n",
      "\u001b[1;31mValueError\u001b[0m: attempt to assign sequence of size 6 to extended slice of size 5"
     ]
    }
   ],
   "source": [
    "a=[1,2,3,4,5,6,7,8,9]\n",
    "a[::2]=10,20,30,40,50,60\n",
    "print(a)"
   ]
  },
  {
   "cell_type": "code",
   "execution_count": 40,
   "id": "5361983b-9f8e-494f-bdde-f0b05bdfd910",
   "metadata": {},
   "outputs": [
    {
     "name": "stdout",
     "output_type": "stream",
     "text": [
      "['Apple', 'Berry', 'Cherry', 'Papaya']\n",
      "['Apple', 'Berry', 'Cherry', 'Papaya']\n",
      "['Guava', 'Berry', 'Cherry', 'Papaya']\n",
      "['Apple', 'Kiwi', 'Cherry', 'Papaya']\n",
      "['Guava', 'Berry', 'Cherry', 'Papaya']\n",
      "['Guava', 'Berry', 'Cherry', 'Papaya']\n",
      "['Apple', 'Kiwi', 'Cherry', 'Papaya']\n",
      "0\n"
     ]
    }
   ],
   "source": [
    "fruit_list1 = ['Apple', 'Berry', 'Cherry', 'Papaya']\n",
    "fruit_list2 = fruit_list1\n",
    "fruit_list3 = fruit_list1[:]\n",
    "print(fruit_list2)\n",
    "print(fruit_list3)\n",
    "\n",
    "fruit_list2[0] = 'Guava'\n",
    "fruit_list3[1] = 'Kiwi'\n",
    "\n",
    "print(fruit_list2)\n",
    "print(fruit_list3)\n",
    " \n",
    "sum = 0\n",
    "for ls in (fruit_list1, fruit_list2, fruit_list3):\n",
    "    print(ls)\n",
    " \n",
    "print(sum)"
   ]
  },
  {
   "cell_type": "code",
   "execution_count": 41,
   "id": "bafc463c-99ae-4991-8393-3115a24c490f",
   "metadata": {},
   "outputs": [
    {
     "name": "stdout",
     "output_type": "stream",
     "text": [
      "4\n",
      "7\n",
      "11\n",
      "15\n"
     ]
    }
   ],
   "source": [
    "arr = [[1, 2, 3, 4],\n",
    "       [4, 5, 6, 7],\n",
    "       [8, 9, 10, 11],\n",
    "       [12, 13, 14, 15]]\n",
    "for i in range(0, 4):\n",
    "    print(arr[i].pop())"
   ]
  },
  {
   "cell_type": "code",
   "execution_count": 42,
   "id": "f391b47e-5b2b-4933-8fbf-4d84a6b4e0a7",
   "metadata": {},
   "outputs": [
    {
     "name": "stdout",
     "output_type": "stream",
     "text": [
      "0 4\n",
      "1 3\n"
     ]
    }
   ],
   "source": [
    "def twosum(list_num,target):\n",
    "    for i in range(len(list_num)):\n",
    "        for j in range(i+1,len(list_num)):\n",
    "            if target==list_num[i]+list_num[j]:\n",
    "                if list_num[i]==list_num[j]:\n",
    "                    continue\n",
    "                else:\n",
    "                    print(i,j)\n",
    "\n",
    "twosum([1,2,3,4,5,6],6)"
   ]
  },
  {
   "cell_type": "code",
   "execution_count": null,
   "id": "c16569c1-1515-485e-a92f-bb7749bd1b53",
   "metadata": {},
   "outputs": [],
   "source": []
  }
 ],
 "metadata": {
  "kernelspec": {
   "display_name": "Python 3 (ipykernel)",
   "language": "python",
   "name": "python3"
  },
  "language_info": {
   "codemirror_mode": {
    "name": "ipython",
    "version": 3
   },
   "file_extension": ".py",
   "mimetype": "text/x-python",
   "name": "python",
   "nbconvert_exporter": "python",
   "pygments_lexer": "ipython3",
   "version": "3.12.1"
  }
 },
 "nbformat": 4,
 "nbformat_minor": 5
}
